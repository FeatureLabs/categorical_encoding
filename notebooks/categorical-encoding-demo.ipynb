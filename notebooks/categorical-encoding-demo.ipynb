{
 "cells": [
  {
   "cell_type": "markdown",
   "metadata": {},
   "source": [
    "# A Demo and Comparison of Categorical Methods\n",
    "\n",
    "**The feature engineering step is arguably the most intensive and manual component of designing and completing a machine learning model from a dataset. Within feature engineering itself, categorical encoding is an essential part of nearly every dataset, but often comes with its own challenges.**\n",
    "\n",
    "In this notebook, we will be exploring where and when to apply different categorical methods. Specifically, we will be applying a number of categorical methods to a dataset, and then comparing the resulting performance of each of the categorical methods. For a detailed guide on the when/how of using categorical methods, check out [this notebook](\n",
    "\n",
    "Specifically for this demo, we will be using the dataset located at https://www.kaggle.com/c/instacart-market-basket-analysis/data. For the purposes of this demo, we will not be detailing every single step involved in the machine learning process. For that, check out [this comprehensive demo](https://github.com/Featuretools/predict-next-purchase) by Feature Labs, Inc. We will still be outlining several key steps, however.\n",
    "\n",
    "If you are planning to follow this tutorial yourself, please refer to [this link](https://github.com/Featuretools/predict-next-purchase#running-the-tutorial) for instructions to download/prepare the data. "
   ]
  },
  {
   "cell_type": "code",
   "execution_count": null,
   "metadata": {},
   "outputs": [],
   "source": []
  }
 ],
 "metadata": {
  "kernelspec": {
   "display_name": "Python 3",
   "language": "python",
   "name": "python3"
  },
  "language_info": {
   "codemirror_mode": {
    "name": "ipython",
    "version": 3
   },
   "file_extension": ".py",
   "mimetype": "text/x-python",
   "name": "python",
   "nbconvert_exporter": "python",
   "pygments_lexer": "ipython3",
   "version": "3.7.3"
  }
 },
 "nbformat": 4,
 "nbformat_minor": 2
}
